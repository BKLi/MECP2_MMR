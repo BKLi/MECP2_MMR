{
 "cells": [
  {
   "cell_type": "code",
   "execution_count": 29,
   "metadata": {},
   "outputs": [],
   "source": [
    "import pandas as pd\n",
    "import numpy as np\n",
    "import seaborn as sns\n",
    "from pathlib import Path\n",
    "import re"
   ]
  },
  {
   "cell_type": "code",
   "execution_count": 30,
   "metadata": {},
   "outputs": [],
   "source": [
    "bowtie_qc_file_dir = r'C:\\Users\\libin\\UCSF\\MECP2\\HiC\\stat\\bowtie'\n",
    "\n",
    "bowtie_qc_file_dir = Path(qc_file_dir)\n",
    "bowtie_qc_files = qc_file_dir.glob('**/*bwt2pairs.pairstat')\n",
    "bowtie_file_path_list = [str(path) for path in bowtie_qc_files]\n",
    "#print(file_path_list)"
   ]
  },
  {
   "cell_type": "code",
   "execution_count": 31,
   "metadata": {},
   "outputs": [],
   "source": [
    "bowtie_df_list = []\n",
    "for file in bowtie_file_path_list:\n",
    "    file_name = file.split(\"\\\\\")[-1]\n",
    "    basename = \"\".join(re.findall(r'(.+).trimmed_hg38.bwt2pairs.pairstat', file_name))\n",
    "    #print(basename)\n",
    "    bowtie_qc_df = pd.read_csv(file,delim_whitespace=True,names=[\"name\", \"{}\".format(basename), \"{}_percentage\".format(basename)])\n",
    "    bowtie_qc_df = bowtie_qc_df.transpose()\n",
    "    new_header = bowtie_qc_df.iloc[0]\n",
    "    bowtie_qc_df = bowtie_qc_df[1:]\n",
    "    bowtie_qc_df.columns=new_header\n",
    "    #bowtie_bowtie_qc_df.at[0,\"LIBRARY\"] = basename\n",
    "    #print (bowtie_bowtie_qc_df.head())\n",
    "    bowtie_df_list.append(bowtie_qc_df)"
   ]
  },
  {
   "cell_type": "code",
   "execution_count": 32,
   "metadata": {},
   "outputs": [],
   "source": [
    "bowtie_qc_df_all = pd.concat(bowtie_df_list, axis=0)"
   ]
  },
  {
   "cell_type": "code",
   "execution_count": 33,
   "metadata": {},
   "outputs": [],
   "source": [
    "bowtie_qc_df_all.to_csv(r'C:\\Users\\libin\\UCSF\\MECP2\\HiC\\stat\\bowtie\\MECP2_bwt2pairs.pairstat.csv')"
   ]
  },
  {
   "cell_type": "code",
   "execution_count": 35,
   "metadata": {},
   "outputs": [],
   "source": [
    "hic_qc_file_dir = r'C:\\Users\\libin\\UCSF\\MECP2\\HiC\\stat\\hic'\n",
    "\n",
    "hic_qc_file_dir = Path(hic_qc_file_dir)\n",
    "hic_qc_files = hic_qc_file_dir.glob('**/*_allValidPairs.mergestat')\n",
    "hic_file_path_list = [str(path) for path in hic_qc_files]\n",
    "#print(file_path_list)"
   ]
  },
  {
   "cell_type": "code",
   "execution_count": 38,
   "metadata": {},
   "outputs": [],
   "source": [
    "hic_df_list = []\n",
    "for file in hic_file_path_list:\n",
    "    file_name = file.split(\"\\\\\")[-1]\n",
    "    basename = \"\".join(re.findall(r'(.+)_allValidPairs.mergestat', file_name))\n",
    "    #print(basename)\n",
    "    hic_qc_df = pd.read_csv(file,delim_whitespace=True,names=[\"name\", \"{}\".format(basename)])\n",
    "    hic_qc_df = hic_qc_df.transpose()\n",
    "    new_header = hic_qc_df.iloc[0]\n",
    "    hic_qc_df = hic_qc_df[1:]\n",
    "    hic_qc_df.columns=new_header\n",
    "    #bowtie_bowtie_qc_df.at[0,\"LIBRARY\"] = basename\n",
    "    #print (bowtie_bowtie_qc_df.head())\n",
    "    hic_df_list.append(hic_qc_df)"
   ]
  },
  {
   "cell_type": "code",
   "execution_count": 39,
   "metadata": {},
   "outputs": [],
   "source": [
    "hic_qc_df_all = pd.concat(hic_df_list, axis=0)"
   ]
  },
  {
   "cell_type": "code",
   "execution_count": 40,
   "metadata": {},
   "outputs": [],
   "source": [
    "hic_qc_df_all.to_csv(r'C:\\Users\\libin\\UCSF\\MECP2\\HiC\\stat\\bowtie\\MECP2_allValidPairs.mergestat.csv')"
   ]
  },
  {
   "cell_type": "code",
   "execution_count": null,
   "metadata": {},
   "outputs": [],
   "source": []
  }
 ],
 "metadata": {
  "kernelspec": {
   "display_name": "Python 3",
   "language": "python",
   "name": "python3"
  },
  "language_info": {
   "codemirror_mode": {
    "name": "ipython",
    "version": 3
   },
   "file_extension": ".py",
   "mimetype": "text/x-python",
   "name": "python",
   "nbconvert_exporter": "python",
   "pygments_lexer": "ipython3",
   "version": "3.7.4"
  }
 },
 "nbformat": 4,
 "nbformat_minor": 4
}
