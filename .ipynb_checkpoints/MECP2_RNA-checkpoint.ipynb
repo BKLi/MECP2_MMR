{
 "cells": [
  {
   "cell_type": "code",
   "execution_count": 103,
   "metadata": {},
   "outputs": [],
   "source": [
    "import pandas as pd\n",
    "import gspread\n",
    "from oauth2client.service_account import ServiceAccountCredentials\n",
    "from df2gspread import df2gspread as d2g"
   ]
  },
  {
   "cell_type": "code",
   "execution_count": 104,
   "metadata": {},
   "outputs": [],
   "source": [
    "scope = ['https://spreadsheets.google.com/feeds']\n",
    "credentials = ServiceAccountCredentials.from_json_keyfile_name(r'C:\\Users\\libin\\UCSF\\Scripts\\JupyterNotebooks\\Jupyter-GoogleDrive-1587a93c5fd8.json', scope)\n",
    "gc = gspread.authorize(credentials)"
   ]
  },
  {
   "cell_type": "code",
   "execution_count": 105,
   "metadata": {},
   "outputs": [],
   "source": [
    "spreadsheet_key = '1GKZr9XQLRPVa9YDpXiJJddmTJgmTbSMYZPF7qvPJyf8' \n",
    "book = gc.open_by_key(spreadsheet_key) "
   ]
  },
  {
   "cell_type": "code",
   "execution_count": 106,
   "metadata": {},
   "outputs": [],
   "source": [
    "initial_qc = book.worksheet(\"initial QC\") \n",
    "raw_table = initial_qc.get_all_values()"
   ]
  },
  {
   "cell_type": "code",
   "execution_count": 107,
   "metadata": {},
   "outputs": [],
   "source": [
    "rna_df = pd.DataFrame(raw_table[1:],columns=[\"sample_run\", \"length\", \"m_seq\"])"
   ]
  },
  {
   "cell_type": "code",
   "execution_count": 108,
   "metadata": {},
   "outputs": [
    {
     "data": {
      "text/html": [
       "<div>\n",
       "<style scoped>\n",
       "    .dataframe tbody tr th:only-of-type {\n",
       "        vertical-align: middle;\n",
       "    }\n",
       "\n",
       "    .dataframe tbody tr th {\n",
       "        vertical-align: top;\n",
       "    }\n",
       "\n",
       "    .dataframe thead th {\n",
       "        text-align: right;\n",
       "    }\n",
       "</style>\n",
       "<table border=\"1\" class=\"dataframe\">\n",
       "  <thead>\n",
       "    <tr style=\"text-align: right;\">\n",
       "      <th></th>\n",
       "      <th>sample_run</th>\n",
       "      <th>length</th>\n",
       "      <th>m_seq</th>\n",
       "    </tr>\n",
       "  </thead>\n",
       "  <tbody>\n",
       "    <tr>\n",
       "      <td>0</td>\n",
       "      <td>LM036_S18_R1_001</td>\n",
       "      <td>51 bp</td>\n",
       "      <td>33.6</td>\n",
       "    </tr>\n",
       "    <tr>\n",
       "      <td>1</td>\n",
       "      <td>LM037_S16_L006_R1_001</td>\n",
       "      <td>51 bp</td>\n",
       "      <td>73.2</td>\n",
       "    </tr>\n",
       "    <tr>\n",
       "      <td>2</td>\n",
       "      <td>LM044_S22_R1_001</td>\n",
       "      <td>51 bp</td>\n",
       "      <td>32.7</td>\n",
       "    </tr>\n",
       "    <tr>\n",
       "      <td>3</td>\n",
       "      <td>LM044_S23_L006_R1_001</td>\n",
       "      <td>51 bp</td>\n",
       "      <td>19.2</td>\n",
       "    </tr>\n",
       "    <tr>\n",
       "      <td>4</td>\n",
       "      <td>LM045_S24_L006_R1_001</td>\n",
       "      <td>51 bp</td>\n",
       "      <td>27.2</td>\n",
       "    </tr>\n",
       "  </tbody>\n",
       "</table>\n",
       "</div>"
      ],
      "text/plain": [
       "              sample_run length m_seq\n",
       "0       LM036_S18_R1_001  51 bp  33.6\n",
       "1  LM037_S16_L006_R1_001  51 bp  73.2\n",
       "2       LM044_S22_R1_001  51 bp  32.7\n",
       "3  LM044_S23_L006_R1_001  51 bp  19.2\n",
       "4  LM045_S24_L006_R1_001  51 bp  27.2"
      ]
     },
     "execution_count": 108,
     "metadata": {},
     "output_type": "execute_result"
    }
   ],
   "source": [
    "rna_df.head()"
   ]
  },
  {
   "cell_type": "code",
   "execution_count": 109,
   "metadata": {},
   "outputs": [
    {
     "name": "stdout",
     "output_type": "stream",
     "text": [
      "total number of sequencing runs: 99\n"
     ]
    }
   ],
   "source": [
    "print ('total number of sequencing runs:', rna_df.shape[0])"
   ]
  },
  {
   "cell_type": "code",
   "execution_count": 110,
   "metadata": {},
   "outputs": [
    {
     "name": "stdout",
     "output_type": "stream",
     "text": [
      "number of low quality sequencing runs : 22\n"
     ]
    }
   ],
   "source": [
    "rna_df[\"m_seq\"] = rna_df[\"m_seq\"].astype(\"float\")\n",
    "low_qual = rna_df[rna_df[\"m_seq\"] <= 0.5]\n",
    "print ('number of low quality sequencing runs :', low_qual.shape[0])"
   ]
  },
  {
   "cell_type": "code",
   "execution_count": 111,
   "metadata": {},
   "outputs": [
    {
     "data": {
      "text/plain": [
       "<Worksheet 'low quality' id:1953596396>"
      ]
     },
     "execution_count": 111,
     "metadata": {},
     "output_type": "execute_result"
    }
   ],
   "source": [
    "# push new dataframe to GoogleSheets\n",
    "wks_name = 'low quality'\n",
    "\n",
    "d2g.upload(low_qual, spreadsheet_key, wks_name, credentials=credentials, row_names=True)"
   ]
  },
  {
   "cell_type": "code",
   "execution_count": 112,
   "metadata": {},
   "outputs": [],
   "source": [
    "# filter out low_qual and seq with extremely now reads number\n",
    "low_qua_list = low_qual[\"sample_run\"].tolist()"
   ]
  },
  {
   "cell_type": "code",
   "execution_count": 113,
   "metadata": {
    "scrolled": true
   },
   "outputs": [
    {
     "name": "stdout",
     "output_type": "stream",
     "text": [
      "[LMA035_S77_L001_R1_001 LMA035_S77_L001_R2_001 LMA045_S86_L001_R1_001 LMA045_S86_L001_R2_001 LMA046_S87_L001_R1_001 LMA046_S87_L001_R2_001 LMA047_S88_L001_R1_001 LMA047_S88_L001_R2_001 LMA048_S89_L001_R1_001 LMA048_S89_L001_R2_001 LMA049_S90_L001_R1_001 LMA049_S90_L001_R2_001 LMA049_S98_L004_R1_001 LMA049_S98_L004_R2_001 LMA050_S91_L001_R1_001 LMA050_S91_L001_R2_001 LMA050_S99_L004_R1_001 LMA050_S99_L004_R2_001 LMA051_S92_L001_R1_001 LMA051_S92_L001_R2_001 LMA052_S93_L001_R1_001 LMA052_S93_L001_R2_001]\n"
     ]
    }
   ],
   "source": [
    "# print out lib name without quotes\n",
    "print (\"[{0}]\".format(' '.join(map(str, low_qua_list))))"
   ]
  },
  {
   "cell_type": "markdown",
   "metadata": {},
   "source": [
    "```bash\n",
    "for i in LMA035_S77_L001_R1_001 LMA035_S77_L001_R2_001 LMA045_S86_L001_R1_001 LMA045_S86_L001_R2_001 LMA046_S87_L001_R1_001 LMA046_S87_L001_R2_001 LMA047_S88_L001_R1_001 LMA047_S88_L001_R2_001 LMA048_S89_L001_R1_001 LMA048_S89_L001_R2_001 LMA049_S90_L001_R1_001 LMA049_S90_L001_R2_001 LMA049_S98_L004_R1_001 LMA049_S98_L004_R2_001 LMA050_S91_L001_R1_001 LMA050_S91_L001_R2_001 LMA050_S99_L004_R1_001 LMA050_S99_L004_R2_001 LMA051_S92_L001_R1_001 LMA051_S92_L001_R2_001 LMA052_S93_L001_R1_001 LMA052_S93_L001_R2_001; do mv $i* low_quality/; done\n",
    "```"
   ]
  },
  {
   "cell_type": "code",
   "execution_count": 114,
   "metadata": {},
   "outputs": [],
   "source": [
    "merged = book.worksheet(\"merged\") \n",
    "merged_table = merged.get_all_values()\n",
    "merged_table_df = pd.DataFrame(merged_table[1:], columns=[\"sample_run\", \"length\", \"m_seq\"])\n",
    "merged_table_df[\"sample_name\"] = merged_table_df[\"sample_run\"].str.extract(r'(.+?)_')"
   ]
  },
  {
   "cell_type": "code",
   "execution_count": 115,
   "metadata": {},
   "outputs": [
    {
     "data": {
      "text/html": [
       "<div>\n",
       "<style scoped>\n",
       "    .dataframe tbody tr th:only-of-type {\n",
       "        vertical-align: middle;\n",
       "    }\n",
       "\n",
       "    .dataframe tbody tr th {\n",
       "        vertical-align: top;\n",
       "    }\n",
       "\n",
       "    .dataframe thead th {\n",
       "        text-align: right;\n",
       "    }\n",
       "</style>\n",
       "<table border=\"1\" class=\"dataframe\">\n",
       "  <thead>\n",
       "    <tr style=\"text-align: right;\">\n",
       "      <th></th>\n",
       "      <th>sample_run</th>\n",
       "      <th>length</th>\n",
       "      <th>m_seq</th>\n",
       "    </tr>\n",
       "  </thead>\n",
       "  <tbody>\n",
       "    <tr>\n",
       "      <td>0</td>\n",
       "      <td>LM036_R1</td>\n",
       "      <td>51 bp</td>\n",
       "      <td>51.1</td>\n",
       "    </tr>\n",
       "    <tr>\n",
       "      <td>1</td>\n",
       "      <td>LM037_R1</td>\n",
       "      <td>51 bp</td>\n",
       "      <td>73.2</td>\n",
       "    </tr>\n",
       "    <tr>\n",
       "      <td>2</td>\n",
       "      <td>LM044_R1</td>\n",
       "      <td>51 bp</td>\n",
       "      <td>19.2</td>\n",
       "    </tr>\n",
       "    <tr>\n",
       "      <td>3</td>\n",
       "      <td>LM045_R1</td>\n",
       "      <td>51 bp</td>\n",
       "      <td>27.2</td>\n",
       "    </tr>\n",
       "    <tr>\n",
       "      <td>4</td>\n",
       "      <td>LM065_R1</td>\n",
       "      <td>51 bp</td>\n",
       "      <td>26.4</td>\n",
       "    </tr>\n",
       "  </tbody>\n",
       "</table>\n",
       "</div>"
      ],
      "text/plain": [
       "  sample_run length m_seq\n",
       "0   LM036_R1  51 bp  51.1\n",
       "1   LM037_R1  51 bp  73.2\n",
       "2   LM044_R1  51 bp  19.2\n",
       "3   LM045_R1  51 bp  27.2\n",
       "4   LM065_R1  51 bp  26.4"
      ]
     },
     "execution_count": 115,
     "metadata": {},
     "output_type": "execute_result"
    }
   ],
   "source": [
    "merged_table_df.head()"
   ]
  },
  {
   "cell_type": "code",
   "execution_count": 99,
   "metadata": {},
   "outputs": [
    {
     "name": "stdout",
     "output_type": "stream",
     "text": [
      "total number of merged libraries (R1, R2): 53\n"
     ]
    }
   ],
   "source": [
    "print ('total number of merged libraries (R1, R2):', merged_table_df.shape[0])"
   ]
  },
  {
   "cell_type": "code",
   "execution_count": 88,
   "metadata": {},
   "outputs": [
    {
     "name": "stdout",
     "output_type": "stream",
     "text": [
      "['LM118_R1', 'LM118_R2', 'LM119_R1', 'LM119_R2', 'LM120_R1', 'LM120_R2', 'LM121_R1', 'LM121_R2', 'LM122_R1', 'LM122_R2', 'LM124_R1', 'LM124_R2', 'LM125_R1', 'LM125_R2', 'LM126_R1', 'LM126_R2', 'LM134_R1', 'LM134_R2']\n",
      "number of libraries with a read length of 101 bp: 18\n"
     ]
    }
   ],
   "source": [
    "merged_101 = merged_table_df[merged_table_df[\"length\"] == \"101 bp\"]\n",
    "\n",
    "print(merged_101[\"sample_run\"].tolist())\n",
    "\n",
    "print(\"number of libraries with a read length of 101 bp:\", len(merged_101[\"sample_run\"].tolist()))"
   ]
  },
  {
   "cell_type": "code",
   "execution_count": 87,
   "metadata": {},
   "outputs": [
    {
     "name": "stdout",
     "output_type": "stream",
     "text": [
      "['LMA045_R1', 'LMA045_R2', 'LMA046_R1', 'LMA046_R2', 'LMA047_R1', 'LMA047_R2', 'LMA048_R1', 'LMA048_R2', 'LMA049_R1', 'LMA049_R2', 'LMA050_R1', 'LMA050_R2', 'LMA051_R1', 'LMA051_R2', 'LMA052_R1', 'LMA052_R2']\n",
      "number of libraries with a read length of 151 bp: 16\n"
     ]
    }
   ],
   "source": [
    "merged_151 = merged_table_df[merged_table_df[\"length\"] == \"151 bp\"]\n",
    "print(merged_151[\"sample_run\"].tolist())\n",
    "\n",
    "print(\"number of libraries with a read length of 151 bp:\", len(merged_151[\"sample_run\"].tolist()))"
   ]
  },
  {
   "cell_type": "code",
   "execution_count": null,
   "metadata": {},
   "outputs": [],
   "source": []
  }
 ],
 "metadata": {
  "kernelspec": {
   "display_name": "Python 3",
   "language": "python",
   "name": "python3"
  },
  "language_info": {
   "codemirror_mode": {
    "name": "ipython",
    "version": 3
   },
   "file_extension": ".py",
   "mimetype": "text/x-python",
   "name": "python",
   "nbconvert_exporter": "python",
   "pygments_lexer": "ipython3",
   "version": "3.7.4"
  }
 },
 "nbformat": 4,
 "nbformat_minor": 4
}
