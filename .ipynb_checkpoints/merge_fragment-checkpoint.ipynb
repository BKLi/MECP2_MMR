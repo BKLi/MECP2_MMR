{
 "cells": [
  {
   "cell_type": "code",
   "execution_count": 24,
   "metadata": {},
   "outputs": [],
   "source": [
    "import pandas as pd"
   ]
  },
  {
   "cell_type": "code",
   "execution_count": 25,
   "metadata": {},
   "outputs": [],
   "source": [
    "fragment = pd.read_csv(r'C:\\Users\\libin\\Desktop\\Digest_Human_GRCh38_DpnII.bed', sep=\"\\t\", \n",
    "                      names=[\"chr\", \"start\", \"end\"])"
   ]
  },
  {
   "cell_type": "code",
   "execution_count": 26,
   "metadata": {},
   "outputs": [],
   "source": [
    "#fragment = fragment[[\"chr\", \"start\", \"end\"]]"
   ]
  },
  {
   "cell_type": "code",
   "execution_count": 27,
   "metadata": {},
   "outputs": [],
   "source": [
    "fragment_chr = fragment.groupby('chr')"
   ]
  },
  {
   "cell_type": "code",
   "execution_count": 28,
   "metadata": {},
   "outputs": [],
   "source": [
    "fragment_chr_df_list = [chrs for _, chrs in fragment_chr]"
   ]
  },
  {
   "cell_type": "code",
   "execution_count": null,
   "metadata": {},
   "outputs": [],
   "source": [
    "d = {'chr': 'first', \"start\": 'first', 'end': \"last\"}\n",
    "merged_df = []\n",
    "leftover = []\n",
    "for chr_df in fragment_chr_df_list:\n",
    "    print (chr_df.shape[0]%3)\n",
    "    leftover.append(chr_df.shape[0]%3)\n",
    "    # if i.shape[0]%3 == 0:\n",
    "    chr_df = chr_df.reset_index()\n",
    "    chr_df_grp = chr_df.groupby(chr_df.index // 3).agg(d)\n",
    "    print(chr_df_grp.head())\n",
    "    print(chr_df_grp.iloc[-3:])\n",
    "    merged_df.append(chr_df_grp)\n",
    "\n",
    "merged_df_all = pd.concat(merged_df, axis=0, ignore_index=True)"
   ]
  },
  {
   "cell_type": "code",
   "execution_count": 32,
   "metadata": {},
   "outputs": [
    {
     "data": {
      "text/plain": [
       "203"
      ]
     },
     "execution_count": 32,
     "metadata": {},
     "output_type": "execute_result"
    }
   ],
   "source": [
    "sum(leftover)"
   ]
  },
  {
   "cell_type": "code",
   "execution_count": null,
   "metadata": {},
   "outputs": [],
   "source": []
  }
 ],
 "metadata": {
  "kernelspec": {
   "display_name": "Python 3",
   "language": "python",
   "name": "python3"
  },
  "language_info": {
   "codemirror_mode": {
    "name": "ipython",
    "version": 3
   },
   "file_extension": ".py",
   "mimetype": "text/x-python",
   "name": "python",
   "nbconvert_exporter": "python",
   "pygments_lexer": "ipython3",
   "version": "3.7.4"
  }
 },
 "nbformat": 4,
 "nbformat_minor": 4
}
