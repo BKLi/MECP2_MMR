{
 "cells": [
  {
   "cell_type": "code",
   "execution_count": null,
   "metadata": {},
   "outputs": [],
   "source": [
    "import pandas as pd\n",
    "import numpy as np\n",
    "import seaborn as sns\n",
    "from pathlib import Path\n",
    "import re\n",
    "from functools import reduce\n",
    "from scipy import stats\n",
    "import matplotlib\n",
    "import matplotlib.pyplot as plt\n",
    "matplotlib.rcParams['pdf.fonttype'] = 42\n",
    "matplotlib.rcParams['ps.fonttype'] = 42\n",
    "import matplotlib as mpl\n",
    "mpl.rcParams['figure.dpi']= 300"
   ]
  },
  {
   "cell_type": "code",
   "execution_count": null,
   "metadata": {},
   "outputs": [],
   "source": [
    "datatype=\"ATAC\"\n",
    "y_ax = \"ATAC signal\"\n",
    "input_dir = Path(r'C:\\Users\\libin\\UCSF\\MECP2\\compare_element\\1206_new_element_set\\{}'.format(datatype))\n",
    "file_paths = input_dir.glob('**/*.tab')\n",
    "file_path_list = [str(path) for path in file_paths]\n",
    "print (file_path_list)"
   ]
  },
  {
   "cell_type": "code",
   "execution_count": null,
   "metadata": {},
   "outputs": [],
   "source": [
    "df_list = []\n",
    "for file in file_path_list:\n",
    "    file_name = file.split(\"\\\\\")[-1]\n",
    "    basename = \"\".join(re.findall(r'total_(.+)_score', file_name))\n",
    "    dataframe = pd.read_csv(file, sep=\"\\t\", skiprows=1, names=[\"chr\", \"start\", \"end\", \"{}\".format(basename)])\n",
    "    print (basename)\n",
    "    #print (\"number of elements:\", dataframe.shape[0])\n",
    "    df_list.append(dataframe)"
   ]
  },
  {
   "cell_type": "code",
   "execution_count": null,
   "metadata": {},
   "outputs": [],
   "source": [
    "df_gr1 = reduce(lambda x, y: pd.merge(x, y, on = [\"chr\", \"start\", \"end\"], how=\"outer\"), df_list)\n",
    "# df_gr1 = reduce(lambda x, y: pd.merge(x, y, on = [\"chr\", \"start\", \"end\"], how=\"outer\"), [df_list[0], df_list[1]])\n",
    "print (list(df_gr1))\n",
    "#df_gr1 = df_gr1.rename(columns={\"#1-1_i_240_p0.01_fcfdr0.05_2sg_elements\": \"1-1_i_240\", \"#1-2_i_160_2sg_elements_specific\": \"1-2_i_160\", \"#1-3_i_negative_elements\": \"1-3_i_negative\"}, errors=\"raise\")\n",
    "print (df_gr1[['positive_elements', 'negative_elements']].describe())\n",
    "df_gr1_melt = pd.melt(df_gr1, value_vars=['positive_elements', 'negative_elements'], value_name=y_ax, var_name=\"\")\n",
    "\n",
    "stats.ks_2samp(df_gr1[\"negative_elements\"], df_gr1[\"positive_elements\"])"
   ]
  },
  {
   "cell_type": "code",
   "execution_count": null,
   "metadata": {},
   "outputs": [],
   "source": [
    "ax = plt.figure(figsize=(3,6))\n",
    "plt.ylabel('', fontsize=12,fontname=\"Arial\")\n",
    "plt.xticks(rotation=45, fontname=\"Arial\", fontsize=12)\n",
    "plt.yticks(fontname=\"Arial\", fontsize=12)\n",
    "# sns.swarmplot(x=\"\", y=y_ax, data=df_gr1_melt, color=\"blue\", size=5, zorder=0)\n",
    "ax=sns.boxplot(x=\"\", y=y_ax, data=df_gr1_melt, palette=[\"gray\", \"whitesmoke\"], showfliers = False, width=[0.3], boxprops=dict(edgecolor='black',linewidth=3))\n",
    "plt.setp(ax.lines, color=\"black\", linewidth=3)\n",
    "plt.setp(ax.spines.values(), color=\"black\", linewidth=3)\n",
    "sns.swarmplot(x=\"\", y=y_ax, data=df_gr1_melt, color=\"blue\", size=5)\n",
    "\n",
    "plt.savefig(r'C:/Users/libin/UCSF/MECP2/compare_element/{}_36_1107.pdf'.format(datatype), transparent=True)   "
   ]
  },
  {
   "cell_type": "code",
   "execution_count": null,
   "metadata": {},
   "outputs": [],
   "source": [
    "ax = plt.figure(figsize=(4,8))\n",
    "plt.ylabel('', fontsize=12,fontname=\"Arial\")\n",
    "plt.xticks(rotation=45, fontname=\"Arial\", fontsize=12)\n",
    "plt.yticks(fontname=\"Arial\", fontsize=12)\n",
    "ax=sns.boxplot(x=\"\", y=y_ax, data=df_gr1_melt, palette=[\"gray\", \"whitesmoke\"], showfliers = False, width=[0.3], boxprops=dict(edgecolor='black',linewidth=3))\n",
    "plt.setp(ax.lines, color=\"black\", linewidth=3)\n",
    "plt.setp(ax.spines.values(), color=\"black\", linewidth=3)\n",
    "\n",
    "sns.swarmplot(x=\"\", y=y_ax, data=df_gr1_melt, color=\"blue\", size=5)\n",
    "plt.savefig(r'C:/Users/libin/UCSF/MECP2/compare_element/{}_48_1107.pdf'.format(datatype), transparent=True)   "
   ]
  }
 ],
 "metadata": {
  "kernelspec": {
   "display_name": "Python 3",
   "language": "python",
   "name": "python3"
  },
  "language_info": {
   "codemirror_mode": {
    "name": "ipython",
    "version": 3
   },
   "file_extension": ".py",
   "mimetype": "text/x-python",
   "name": "python",
   "nbconvert_exporter": "python",
   "pygments_lexer": "ipython3",
   "version": "3.7.4"
  }
 },
 "nbformat": 4,
 "nbformat_minor": 4
}
